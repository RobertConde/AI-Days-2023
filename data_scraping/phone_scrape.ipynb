{
 "cells": [
  {
   "cell_type": "code",
   "execution_count": 83,
   "metadata": {},
   "outputs": [],
   "source": [
    "import requests\n",
    "from bs4 import BeautifulSoup\n",
    "from selenium import webdriver\n",
    "from selenium.webdriver.common.by import By\n",
    "import time\n",
    "import pandas as pd\n",
    "from selenium.webdriver.support.ui import WebDriverWait\n",
    "from selenium.webdriver.support import expected_conditions as EC\n",
    "import re\n",
    "import json"
   ]
  },
  {
   "cell_type": "code",
   "execution_count": 36,
   "metadata": {},
   "outputs": [],
   "source": [
    "urls = [\"https://www.verizon.com/smartphones/\",\"https://www.verizon.com/smartphones/page-2/\", \"https://www.verizon.com/smartphones/page-3/\", \"https://www.verizon.com/smartphones/page-4/\"]"
   ]
  },
  {
   "cell_type": "markdown",
   "metadata": {},
   "source": [
    "Get links to each smartphone"
   ]
  },
  {
   "cell_type": "code",
   "execution_count": 37,
   "metadata": {},
   "outputs": [],
   "source": [
    "smartphone_links = set()\n",
    "for url in urls:\n",
    "    \n",
    "    # Send a GET request to the server and get the content of the webpage\n",
    "    response = requests.get(url)\n",
    "    # If request was successful (HTTP Status Code 200)\n",
    "    if response.status_code == 200:\n",
    "        # Parse the page content\n",
    "        soup = BeautifulSoup(response.text, 'html.parser')\n",
    "        \n",
    "        # Find links to all smartphones\n",
    "        grid = soup.find(\"div\", id=\"col\")\n",
    "        smartphone_links_a = grid.find_all(\"a\", href=True)\n",
    "\n",
    "        # Loop through each link and store in set\n",
    "        for link in smartphone_links_a:\n",
    "            if link['href'][0:8] == \"https://\":\n",
    "                smartphone_links.add(link['href'])"
   ]
  },
  {
   "cell_type": "markdown",
   "metadata": {},
   "source": [
    "Get specs from each smartphone link"
   ]
  },
  {
   "cell_type": "code",
   "execution_count": null,
   "metadata": {},
   "outputs": [],
   "source": [
    "phones = []\n",
    "driver = webdriver.Chrome()\n",
    "smartphone_links = sorted(list(smartphone_links))\n",
    "for spec_url in smartphone_links:\n",
    "    \n",
    "    # Navigate to the webpage\n",
    "    driver.get(spec_url)\n",
    "    try:\n",
    "        if driver.find_element(By.TAG_NAME, \"h1\").text == \"something went wrong, please try after some time\":\n",
    "            continue\n",
    "    except:\n",
    "        pass\n",
    "    driver.execute_script(\"window.  scrollTo(0, document.body.scrollHeight / 2);\")\n",
    "    # Wait for the page to load completely\n",
    "    time.sleep(2)\n",
    "\n",
    "    curr_phone = {}\n",
    "    curr_phone[\"name\"] = driver.find_element(By.TAG_NAME, \"h1\").find_element(By.TAG_NAME, \"span\").text\n",
    "    html = driver.page_source\n",
    "    for line in html.split('\\n'):\n",
    "        if line.startswith(\"window.APP_STATE\"):\n",
    "            script = line\n",
    "            break\n",
    "    index = 0\n",
    "    colors = []\n",
    "    images = []\n",
    "    for i in range(3):\n",
    "        index = script.find('\"label\"', index)\n",
    "        colors.append(script[index+8:script.find('\"', index+10)])\n",
    "        index = script.find('\"images\"', index)\n",
    "        images.append(script[index+11:script.find('\"', index+11)])\n",
    "    \n",
    "    curr_phone[\"colors\"] = colors\n",
    "    curr_phone[\"images\"] = images\n",
    "    curr_phone[\"url\"] = spec_url\n",
    "\n",
    "    # Find the 'Specs' button and click it\n",
    "    wait = WebDriverWait(driver, 10)\n",
    "    specs_button = wait.until(EC.visibility_of_element_located((By.ID, 'FEATURESTAB')))\n",
    "    retries = 100\n",
    "    for i in range(retries):\n",
    "        try:\n",
    "            specs_button.click()\n",
    "            break\n",
    "        except:\n",
    "            time.sleep(1)\n",
    "            continue\n",
    "\n",
    "    # Wait for the specs to load\n",
    "    time.sleep(1)\n",
    "\n",
    "    specs = driver.find_elements(By.CLASS_NAME, \"pb-8\")\n",
    "    for spec in specs:\n",
    "        sections = spec.find_elements(By.CLASS_NAME, \"py-8\")\n",
    "        for section in sections:\n",
    "            subsections = section.find_elements(By.TAG_NAME, \"p\")\n",
    "            title = subsections[0].text\n",
    "            description = subsections[1].text\n",
    "            if title == \"Width\":\n",
    "                curr_phone[\"width\"] = description\n",
    "            elif title == \"Depth\":\n",
    "                curr_phone[\"depth\"] = description\n",
    "            elif title == \"Weight\":\n",
    "                curr_phone[\"weight\"] = description\n",
    "            elif title == \"Height\":\n",
    "                curr_phone[\"height\"] = description\n",
    "            elif title == \"Usage Time\":\n",
    "                curr_phone[\"battery\"] = description\n",
    "            elif title == \"Operating System\":\n",
    "                curr_phone[\"operating_system\"] = description\n",
    "            elif \"camera\" in title.lower():\n",
    "                curr_phone[\"camera\"] = description\n",
    "            elif \"storage\" in title.lower():\n",
    "                curr_phone[\"storage\"] = description\n",
    "    \n",
    "    phones.append(curr_phone)\n",
    "    \n",
    "    # Save curr_phone to json file using pandas\n",
    "    df = pd.DataFrame(phones)\n",
    "    df.to_json(f\"phones_{len(phones)}.json\", orient=\"records\")\n",
    "driver.quit()"
   ]
  },
  {
   "cell_type": "markdown",
   "metadata": {},
   "source": [
    "Get Phone Prices"
   ]
  },
  {
   "cell_type": "code",
   "execution_count": 18,
   "metadata": {},
   "outputs": [],
   "source": [
    "urls = [\"https://www.verizon.com/smartphones/\",\"https://www.verizon.com/smartphones/page-2/\", \"https://www.verizon.com/smartphones/page-3/\", \"https://www.verizon.com/smartphones/page-4/\"]\n",
    "phone_price = {}\n",
    "smartphone_links = set()\n",
    "for url in urls:\n",
    "    # Send a GET request to the server and get the content of the webpage\n",
    "    response = requests.get(url)\n",
    "    # If request was successful (HTTP Status Code 200)\n",
    "    if response.status_code == 200:\n",
    "        # Parse the page content\n",
    "        soup = BeautifulSoup(response.text, 'html.parser')\n",
    "        \n",
    "        # Find links to all smartphones\n",
    "        grid = soup.find_all(\"div\", attrs={'data-testid': 'product-tile'})\n",
    "        for tile in grid:\n",
    "            name = tile.find(\"span\", id=\"tileProductText\").text\n",
    "            price = re.sub(r'[^\\d.]+', \"\", tile.find(\"p\", attrs={'data-testid': 'dpp-frp'}).text)\n",
    "            phone_price[name] = price"
   ]
  },
  {
   "cell_type": "code",
   "execution_count": 32,
   "metadata": {},
   "outputs": [],
   "source": [
    "phones[\"price\"] = phones[\"name\"].apply(lambda x: phone_price[x])"
   ]
  },
  {
   "cell_type": "markdown",
   "metadata": {},
   "source": [
    "Scraping descriptions and extra camera info"
   ]
  },
  {
   "cell_type": "code",
   "execution_count": 88,
   "metadata": {},
   "outputs": [],
   "source": [
    "driver = webdriver.Chrome()\n",
    "phone_description = {}\n",
    "phone_cameras = {}\n",
    "smartphone_links = sorted(list(smartphone_links))\n",
    "for spec_url in smartphone_links[29::]:\n",
    "    \n",
    "    # Navigate to the webpage\n",
    "    driver.get(spec_url)\n",
    "    try:\n",
    "        if driver.find_element(By.TAG_NAME, \"h1\").text == \"something went wrong, please try after some time\":\n",
    "            continue\n",
    "    except:\n",
    "        pass\n",
    "    driver.execute_script(\"window.  scrollTo(0, document.body.scrollHeight / 2);\")\n",
    "    time.sleep(2)\n",
    "    overview = driver.find_element(By.XPATH, \"//div[@data-testid='overviewid']\")\n",
    "    phone_description[spec_url] = overview.find_element(By.TAG_NAME, \"span\").text\n",
    "\n",
    "    html = driver.page_source\n",
    "    for line in html.split('\\n'):\n",
    "        if line.startswith(\"window.APP_STATE\"):\n",
    "            script = line\n",
    "            break\n",
    "\n",
    "\n",
    "\n",
    "    res = json.loads(script[19:-1])\n",
    "    try:\n",
    "        camera = res['pdp']['productDetails']['productSpecification']['Camera']\n",
    "    except:\n",
    "        phone_cameras[spec_url] = {}\n",
    "        continue\n",
    "    phone_cameras[spec_url] = camera\n",
    "driver.quit()"
   ]
  },
  {
   "cell_type": "code",
   "execution_count": 54,
   "metadata": {},
   "outputs": [],
   "source": [
    "# Add description column to dataframe when url matches\n",
    "phones[\"description\"] = phones[\"url\"].apply(lambda x: phone_description[x] if x in phone_description else None)"
   ]
  },
  {
   "cell_type": "code",
   "execution_count": 91,
   "metadata": {},
   "outputs": [],
   "source": [
    "# Replace camera column in dataframe when url matches\n",
    "phones[\"camera\"] = phones[\"url\"].apply(lambda x: phone_cameras[x] if x in phone_cameras else None)"
   ]
  },
  {
   "cell_type": "code",
   "execution_count": 93,
   "metadata": {},
   "outputs": [],
   "source": [
    "phones.to_json(f\"phones_final.json\", orient=\"records\")"
   ]
  }
 ],
 "metadata": {
  "kernelspec": {
   "display_name": "venv",
   "language": "python",
   "name": "python3"
  },
  "language_info": {
   "codemirror_mode": {
    "name": "ipython",
    "version": 3
   },
   "file_extension": ".py",
   "mimetype": "text/x-python",
   "name": "python",
   "nbconvert_exporter": "python",
   "pygments_lexer": "ipython3",
   "version": "3.10.11"
  }
 },
 "nbformat": 4,
 "nbformat_minor": 2
}
