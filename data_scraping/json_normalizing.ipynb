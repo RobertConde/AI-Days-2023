{
 "cells": [
  {
   "cell_type": "code",
   "execution_count": 150,
   "metadata": {},
   "outputs": [],
   "source": [
    "import pandas as pd\n",
    "import re\n",
    "import math"
   ]
  },
  {
   "cell_type": "code",
   "execution_count": 24,
   "metadata": {},
   "outputs": [],
   "source": [
    "# Load df from json\n",
    "df = pd.read_json('./phones_all_data.json')"
   ]
  },
  {
   "cell_type": "code",
   "execution_count": 9,
   "metadata": {},
   "outputs": [],
   "source": [
    "# Define a function to extract the brand\n",
    "def extract_brand(name):\n",
    "    if \"apple\" in name.lower():\n",
    "        return \"Apple\"\n",
    "    elif \"samsung\" in name.lower():\n",
    "        return \"Samsung\"\n",
    "    elif \"motorola\" in name.lower():\n",
    "        return \"Motorola\"\n",
    "    elif \"nokia\" in name.lower():\n",
    "        return \"Nokia\"\n",
    "    elif \"kyocera\" in name.lower():\n",
    "        return \"Kyocera\"\n",
    "    elif \"google\" in name.lower():\n",
    "        return \"Google\"\n",
    "    elif \"tcl\" in name.lower():\n",
    "        return \"TCL\"\n",
    "    elif \"sonim\" in name.lower():\n",
    "        return \"Sonim\""
   ]
  },
  {
   "cell_type": "code",
   "execution_count": 10,
   "metadata": {},
   "outputs": [],
   "source": [
    "df['brand'] = df['name'].apply(extract_brand)"
   ]
  },
  {
   "cell_type": "code",
   "execution_count": 65,
   "metadata": {},
   "outputs": [],
   "source": [
    "def convert_storage(storage_str):\n",
    "    if storage_str == None:\n",
    "        return None\n",
    "    storage_str = storage_str.lower()\n",
    "    if \",\" in storage_str:\n",
    "        storage_list = [int(re.sub(\"[^0-9]\", \"\", s).strip()) for s in storage_str.split(',')]\n",
    "    elif \"|\" in storage_str:\n",
    "        storage_list = [int(re.sub(\"[^0-9]\", \"\", s).strip()) for s in storage_str.split('|')]\n",
    "    else:\n",
    "        storage_list = [int(re.sub(\"[^0-9]\", \"\", storage_str).strip())]\n",
    "    return storage_list"
   ]
  },
  {
   "cell_type": "code",
   "execution_count": 66,
   "metadata": {},
   "outputs": [],
   "source": [
    "df['storage'] = df['storage'].apply(convert_storage)"
   ]
  },
  {
   "cell_type": "code",
   "execution_count": 69,
   "metadata": {},
   "outputs": [],
   "source": [
    "df['used'] = df['name'].apply(lambda x: \"owned\" in x.lower())"
   ]
  },
  {
   "cell_type": "code",
   "execution_count": 74,
   "metadata": {},
   "outputs": [],
   "source": [
    "# Remove (Certified Pre-Owned) from name\n",
    "df['name'] = df['name'].apply(lambda x: re.sub(r\"\\(Certified Pre-Owned\\)\", \"\", x).strip())"
   ]
  },
  {
   "cell_type": "code",
   "execution_count": 84,
   "metadata": {},
   "outputs": [],
   "source": [
    "def compute_screen_size(width, height):\n",
    "    if width == None or height == None:\n",
    "        return None\n",
    "    if \"Folded\" not in width:\n",
    "        width = float(width.strip(\"inches\").strip(\"in.\").strip(\"in\").strip())\n",
    "    else:\n",
    "        width = float(width[width.find(\"Unfolded\")::].strip(\"Unfolded:\").strip(\"Unfolded\").strip(\"in.\").strip(\"in\").strip())\n",
    "    if \"Folded\" not in height:\n",
    "        height = float(height.strip(\"inches\").strip(\"in.\").strip(\"in\").strip())\n",
    "    else:\n",
    "        height = float(height[height.find(\"Unfolded\")::].strip(\"Unfolded:\").strip(\"Unfolded\").strip(\"in.\").strip(\"in\").strip())\n",
    "    return round((width**2 + height**2)**0.5, 2)\n",
    "df['screen_size'] = df.apply(lambda x: compute_screen_size(x['width'], x['height']), axis=1)"
   ]
  },
  {
   "cell_type": "markdown",
   "metadata": {},
   "source": [
    "Normalize camera categories"
   ]
  },
  {
   "cell_type": "code",
   "execution_count": 139,
   "metadata": {},
   "outputs": [],
   "source": [
    "updated_camera_categories = {'general', 'modes', 'front', 'rear', \"video\"}"
   ]
  },
  {
   "cell_type": "code",
   "execution_count": 141,
   "metadata": {},
   "outputs": [],
   "source": [
    "def normalize_camera_categories(camera_dict):\n",
    "    if camera_dict == None:\n",
    "        return None\n",
    "    if 'Camera' in camera_dict.keys():\n",
    "        camera_dict['general'] = camera_dict['Camera']\n",
    "        del camera_dict['Camera']\n",
    "    if 'Camera Modes' in camera_dict.keys():\n",
    "        camera_dict['modes'] = camera_dict['Camera Modes']\n",
    "        del camera_dict['Camera Modes']\n",
    "    if 'Camera Mode' in camera_dict.keys():\n",
    "        camera_dict['modes'] = camera_dict['Camera Mode']\n",
    "        del camera_dict['Camera Mode']\n",
    "    if \"camera\" in camera_dict.keys():\n",
    "        camera_dict['general'] = camera_dict['camera']\n",
    "        del camera_dict['camera']\n",
    "    if \"Main Lens\" in camera_dict.keys():\n",
    "        camera_dict['general'] = camera_dict['Main Lens']\n",
    "        del camera_dict['Main Lens']\n",
    "    if \"Front Camera\" in camera_dict.keys():\n",
    "        camera_dict['front'] = camera_dict['Front Camera']\n",
    "        del camera_dict['Front Camera']\n",
    "    if \"Rear Camera\" in camera_dict.keys():\n",
    "        camera_dict['rear'] = camera_dict['Rear Camera']\n",
    "        del camera_dict['Rear Camera']\n",
    "    if \"Video\" in camera_dict.keys():\n",
    "        camera_dict['video'] = camera_dict['Video']\n",
    "        del camera_dict['Video']\n",
    "    for category in updated_camera_categories:\n",
    "        if category not in camera_dict.keys():\n",
    "            camera_dict[category] = None\n",
    "    return camera_dict"
   ]
  },
  {
   "cell_type": "code",
   "execution_count": 142,
   "metadata": {},
   "outputs": [],
   "source": [
    "df['camera'] = df['camera'].apply(normalize_camera_categories)"
   ]
  },
  {
   "cell_type": "code",
   "execution_count": 33,
   "metadata": {},
   "outputs": [],
   "source": [
    "df.to_json('./phones_all_data.json', orient='records')"
   ]
  },
  {
   "cell_type": "markdown",
   "metadata": {},
   "source": [
    "Separating colors/storages into separate phones"
   ]
  },
  {
   "cell_type": "code",
   "execution_count": 34,
   "metadata": {},
   "outputs": [],
   "source": [
    "df = pd.read_json('./phones_all_data.json')"
   ]
  },
  {
   "cell_type": "code",
   "execution_count": 74,
   "metadata": {},
   "outputs": [],
   "source": [
    "expanded = {'name': [], 'color': [], 'images': [], 'storage': [], 'used': [], 'brand': [], 'screen_size': [], 'camera': [], 'id': [], 'description': [], 'url': [], 'price': [], 'battery': []}"
   ]
  },
  {
   "cell_type": "code",
   "execution_count": 75,
   "metadata": {},
   "outputs": [],
   "source": [
    "for index, row in df.iterrows():\n",
    "    colors = row['colors']\n",
    "    images = row['images']\n",
    "\n",
    "    # Iterate through each color in the 'colors' list\n",
    "    if colors is None:\n",
    "        expanded['name'].append(row['name'])\n",
    "        expanded['color'].append(color)\n",
    "        if images is not None:\n",
    "            expanded['images'].append(images.get(color, []))\n",
    "        else:\n",
    "            expanded['images'].append(None)\n",
    "        expanded['storage'].append(row['storage'])\n",
    "        expanded['used'].append(row['used'])\n",
    "        expanded['brand'].append(row['brand'])\n",
    "        expanded['screen_size'].append(row['screen_size'])\n",
    "        expanded['camera'].append(row['camera'])\n",
    "        expanded['id'].append(row['id'])\n",
    "        expanded['description'].append(row['description'])\n",
    "        expanded['url'].append(row['url'])\n",
    "        expanded['price'].append(row['price'])\n",
    "        expanded['battery'].append(row['battery'])\n",
    "        continue\n",
    "    for color in colors:\n",
    "        # Append the data for the expanded DataFrame\n",
    "        expanded['name'].append(row['name'])\n",
    "        expanded['color'].append(color)\n",
    "        if images is not None: \n",
    "            expanded['images'].append(images.get(color, []))\n",
    "        else:\n",
    "            expanded['images'].append(None)\n",
    "        expanded['storage'].append(row['storage'])\n",
    "        expanded['used'].append(row['used'])\n",
    "        expanded['brand'].append(row['brand'])\n",
    "        expanded['screen_size'].append(row['screen_size'])\n",
    "        expanded['camera'].append(row['camera'])\n",
    "        expanded['id'].append(row['id'])\n",
    "        expanded['description'].append(row['description'])\n",
    "        expanded['url'].append(row['url'])\n",
    "        expanded['price'].append(row['price'])\n",
    "        expanded['battery'].append(row['battery'])"
   ]
  },
  {
   "cell_type": "code",
   "execution_count": 76,
   "metadata": {},
   "outputs": [],
   "source": [
    "df_expanded = pd.DataFrame(expanded)"
   ]
  },
  {
   "cell_type": "code",
   "execution_count": 77,
   "metadata": {},
   "outputs": [],
   "source": [
    "expanded2 = {'name': [], 'color': [], 'images': [], 'storage': [], 'used': [], 'brand': [], 'screen_size': [], 'camera': [], 'id': [], 'description': [], 'url': [], 'price': [], 'battery': []}"
   ]
  },
  {
   "cell_type": "code",
   "execution_count": 78,
   "metadata": {},
   "outputs": [],
   "source": [
    "for index, row in df_expanded.iterrows():\n",
    "    storages = row['storage']\n",
    "\n",
    "    # Iterate through each color in the 'colors' list\n",
    "    if storages is None:\n",
    "        expanded2['name'].append(row['name'])\n",
    "        expanded2['color'].append(row['color'])\n",
    "        expanded2['images'].append(row['images'])\n",
    "        expanded2['storage'].append(row['storage'])\n",
    "        expanded2['used'].append(row['used'])\n",
    "        expanded2['brand'].append(row['brand'])\n",
    "        expanded2['screen_size'].append(row['screen_size'])\n",
    "        expanded2['camera'].append(row['camera'])\n",
    "        expanded2['id'].append(row['id'])\n",
    "        expanded2['description'].append(row['description'])\n",
    "        expanded2['url'].append(row['url'])\n",
    "        expanded2['price'].append(row['price'])\n",
    "        expanded2['battery'].append(row['battery'])\n",
    "        continue\n",
    "    for storage in storages:\n",
    "        # Append the data for the expanded2 DataFrame\n",
    "        expanded2['name'].append(row['name'])\n",
    "        expanded2['color'].append(row['color'])\n",
    "        expanded2['images'].append(row['images'])\n",
    "        expanded2['storage'].append(storage)\n",
    "        expanded2['used'].append(row['used'])\n",
    "        expanded2['brand'].append(row['brand'])\n",
    "        expanded2['screen_size'].append(row['screen_size'])\n",
    "        expanded2['camera'].append(row['camera'])\n",
    "        expanded2['id'].append(row['id'])\n",
    "        expanded2['description'].append(row['description'])\n",
    "        expanded2['url'].append(row['url'])\n",
    "        expanded2['price'].append(row['price'])\n",
    "        expanded2['battery'].append(row['battery'])"
   ]
  },
  {
   "cell_type": "code",
   "execution_count": 79,
   "metadata": {},
   "outputs": [],
   "source": [
    "df_expanded2 = pd.DataFrame(expanded2)"
   ]
  },
  {
   "cell_type": "code",
   "execution_count": 80,
   "metadata": {},
   "outputs": [],
   "source": [
    "# create id function for apply\n",
    "def create_ids(row):\n",
    "    if row['color'] == None:\n",
    "        color = \"\"\n",
    "    else:\n",
    "        color = \"-\" + row['color'].strip().lower().replace(\" \", \"-\")\n",
    "    if math.isnan(row['storage']):\n",
    "        storage = \"\"\n",
    "    else:\n",
    "        storage = \"-\" + str(int(row['storage']))\n",
    "    if row['used'] == True:\n",
    "        return row['name'].strip().lower().replace(\" \", \"-\") + color + storage + \"-used\"\n",
    "    else:\n",
    "        return row['name'].strip().lower().replace(\" \", \"-\") + color + storage + \"-new\"\n",
    "# create id column\n",
    "df_expanded2['id'] = df_expanded2.apply(create_ids, axis=1)"
   ]
  },
  {
   "cell_type": "code",
   "execution_count": 85,
   "metadata": {},
   "outputs": [],
   "source": [
    "df_expanded2.to_json('./phones_expanded.json', orient='records')"
   ]
  },
  {
   "cell_type": "markdown",
   "metadata": {},
   "source": [
    "Getting rid of unnecessary columns"
   ]
  },
  {
   "cell_type": "code",
   "execution_count": 151,
   "metadata": {},
   "outputs": [],
   "source": [
    "df = pd.read_json('./phones_expanded.json')\n",
    "\n",
    "# Remove depth, weight, height, and width columns\n",
    "df = df.drop(columns=['images', 'url'])"
   ]
  },
  {
   "cell_type": "code",
   "execution_count": 152,
   "metadata": {},
   "outputs": [],
   "source": [
    "df.to_json('./phones_compressed.json', orient='records')"
   ]
  },
  {
   "cell_type": "code",
   "execution_count": 159,
   "metadata": {},
   "outputs": [],
   "source": [
    "df = pd.read_json('./phones_compressed.json')"
   ]
  },
  {
   "cell_type": "code",
   "execution_count": 168,
   "metadata": {},
   "outputs": [],
   "source": [
    "pattern = re.compile(r'(\\d+) ?MP')\n",
    "\n",
    "def new_camera_metric(row):\n",
    "    max_mp = 0\n",
    "    for key,val in row['camera'].items():\n",
    "        if val is not None:\n",
    "            matches = pattern.findall(val)\n",
    "            if matches:\n",
    "                max_mp = max(max_mp, max([int(match) for match in matches]))\n",
    "    return max_mp"
   ]
  },
  {
   "cell_type": "code",
   "execution_count": 170,
   "metadata": {},
   "outputs": [],
   "source": [
    "df['camera'] = df.apply(new_camera_metric, axis=1)"
   ]
  },
  {
   "cell_type": "code",
   "execution_count": 172,
   "metadata": {},
   "outputs": [],
   "source": [
    "df.to_json('./phones_compressed.json', orient='records')"
   ]
  }
 ],
 "metadata": {
  "kernelspec": {
   "display_name": "venv",
   "language": "python",
   "name": "python3"
  },
  "language_info": {
   "codemirror_mode": {
    "name": "ipython",
    "version": 3
   },
   "file_extension": ".py",
   "mimetype": "text/x-python",
   "name": "python",
   "nbconvert_exporter": "python",
   "pygments_lexer": "ipython3",
   "version": "3.10.11"
  }
 },
 "nbformat": 4,
 "nbformat_minor": 2
}
