{
 "cells": [
  {
   "cell_type": "code",
   "execution_count": 1,
   "metadata": {},
   "outputs": [],
   "source": [
    "import pandas as pd"
   ]
  },
  {
   "cell_type": "code",
   "execution_count": 2,
   "metadata": {},
   "outputs": [],
   "source": [
    "# Load df from json\n",
    "df = pd.read_json('./phones_final.json')"
   ]
  },
  {
   "cell_type": "code",
   "execution_count": 9,
   "metadata": {},
   "outputs": [],
   "source": [
    "# Define a function to extract the brand\n",
    "def extract_brand(name):\n",
    "    if \"apple\" in name.lower():\n",
    "        return \"Apple\"\n",
    "    elif \"samsung\" in name.lower():\n",
    "        return \"Samsung\"\n",
    "    elif \"motorola\" in name.lower():\n",
    "        return \"Motorola\"\n",
    "    elif \"nokia\" in name.lower():\n",
    "        return \"Nokia\"\n",
    "    elif \"kyocera\" in name.lower():\n",
    "        return \"Kyocera\"\n",
    "    elif \"google\" in name.lower():\n",
    "        return \"Google\"\n",
    "    elif \"tcl\" in name.lower():\n",
    "        return \"TCL\"\n",
    "    elif \"sonim\" in name.lower():\n",
    "        return \"Sonim\""
   ]
  },
  {
   "cell_type": "code",
   "execution_count": 10,
   "metadata": {},
   "outputs": [],
   "source": [
    "df['brand'] = df['name'].apply(extract_brand)"
   ]
  },
  {
   "cell_type": "code",
   "execution_count": 16,
   "metadata": {},
   "outputs": [],
   "source": [
    "df.to_json('./phones_final.json', orient='records')"
   ]
  },
  {
   "cell_type": "code",
   "execution_count": 14,
   "metadata": {},
   "outputs": [
    {
     "data": {
      "text/html": [
       "<div>\n",
       "<style scoped>\n",
       "    .dataframe tbody tr th:only-of-type {\n",
       "        vertical-align: middle;\n",
       "    }\n",
       "\n",
       "    .dataframe tbody tr th {\n",
       "        vertical-align: top;\n",
       "    }\n",
       "\n",
       "    .dataframe thead th {\n",
       "        text-align: right;\n",
       "    }\n",
       "</style>\n",
       "<table border=\"1\" class=\"dataframe\">\n",
       "  <thead>\n",
       "    <tr style=\"text-align: right;\">\n",
       "      <th></th>\n",
       "      <th>name</th>\n",
       "      <th>colors</th>\n",
       "      <th>images</th>\n",
       "      <th>depth</th>\n",
       "      <th>weight</th>\n",
       "      <th>width</th>\n",
       "      <th>height</th>\n",
       "      <th>battery</th>\n",
       "      <th>camera</th>\n",
       "      <th>storage</th>\n",
       "      <th>operating_system</th>\n",
       "      <th>url</th>\n",
       "      <th>price</th>\n",
       "      <th>brand</th>\n",
       "    </tr>\n",
       "  </thead>\n",
       "  <tbody>\n",
       "  </tbody>\n",
       "</table>\n",
       "</div>"
      ],
      "text/plain": [
       "Empty DataFrame\n",
       "Columns: [name, colors, images, depth, weight, width, height, battery, camera, storage, operating_system, url, price, brand]\n",
       "Index: []"
      ]
     },
     "execution_count": 14,
     "metadata": {},
     "output_type": "execute_result"
    }
   ],
   "source": []
  }
 ],
 "metadata": {
  "kernelspec": {
   "display_name": "venv",
   "language": "python",
   "name": "python3"
  },
  "language_info": {
   "codemirror_mode": {
    "name": "ipython",
    "version": 3
   },
   "file_extension": ".py",
   "mimetype": "text/x-python",
   "name": "python",
   "nbconvert_exporter": "python",
   "pygments_lexer": "ipython3",
   "version": "3.10.11"
  }
 },
 "nbformat": 4,
 "nbformat_minor": 2
}
