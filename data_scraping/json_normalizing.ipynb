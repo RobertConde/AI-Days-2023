{
 "cells": [
  {
   "cell_type": "code",
   "execution_count": 2,
   "metadata": {},
   "outputs": [],
   "source": [
    "import pandas as pd\n",
    "import re"
   ]
  },
  {
   "cell_type": "code",
   "execution_count": 89,
   "metadata": {},
   "outputs": [],
   "source": [
    "# Load df from json\n",
    "df = pd.read_json('./phones_all_data.json')"
   ]
  },
  {
   "cell_type": "code",
   "execution_count": 9,
   "metadata": {},
   "outputs": [],
   "source": [
    "# Define a function to extract the brand\n",
    "def extract_brand(name):\n",
    "    if \"apple\" in name.lower():\n",
    "        return \"Apple\"\n",
    "    elif \"samsung\" in name.lower():\n",
    "        return \"Samsung\"\n",
    "    elif \"motorola\" in name.lower():\n",
    "        return \"Motorola\"\n",
    "    elif \"nokia\" in name.lower():\n",
    "        return \"Nokia\"\n",
    "    elif \"kyocera\" in name.lower():\n",
    "        return \"Kyocera\"\n",
    "    elif \"google\" in name.lower():\n",
    "        return \"Google\"\n",
    "    elif \"tcl\" in name.lower():\n",
    "        return \"TCL\"\n",
    "    elif \"sonim\" in name.lower():\n",
    "        return \"Sonim\""
   ]
  },
  {
   "cell_type": "code",
   "execution_count": 10,
   "metadata": {},
   "outputs": [],
   "source": [
    "df['brand'] = df['name'].apply(extract_brand)"
   ]
  },
  {
   "cell_type": "code",
   "execution_count": 65,
   "metadata": {},
   "outputs": [],
   "source": [
    "def convert_storage(storage_str):\n",
    "    if storage_str == None:\n",
    "        return None\n",
    "    storage_str = storage_str.lower()\n",
    "    if \",\" in storage_str:\n",
    "        storage_list = [int(re.sub(\"[^0-9]\", \"\", s).strip()) for s in storage_str.split(',')]\n",
    "    elif \"|\" in storage_str:\n",
    "        storage_list = [int(re.sub(\"[^0-9]\", \"\", s).strip()) for s in storage_str.split('|')]\n",
    "    else:\n",
    "        storage_list = [int(re.sub(\"[^0-9]\", \"\", storage_str).strip())]\n",
    "    return storage_list"
   ]
  },
  {
   "cell_type": "code",
   "execution_count": 66,
   "metadata": {},
   "outputs": [],
   "source": [
    "df['storage'] = df['storage'].apply(convert_storage)"
   ]
  },
  {
   "cell_type": "code",
   "execution_count": 69,
   "metadata": {},
   "outputs": [],
   "source": [
    "df['used'] = df['name'].apply(lambda x: \"owned\" in x.lower())"
   ]
  },
  {
   "cell_type": "code",
   "execution_count": 74,
   "metadata": {},
   "outputs": [],
   "source": [
    "# Remove (Certified Pre-Owned) from name\n",
    "df['name'] = df['name'].apply(lambda x: re.sub(r\"\\(Certified Pre-Owned\\)\", \"\", x).strip())"
   ]
  },
  {
   "cell_type": "code",
   "execution_count": 84,
   "metadata": {},
   "outputs": [],
   "source": [
    "def compute_screen_size(width, height):\n",
    "    if width == None or height == None:\n",
    "        return None\n",
    "    if \"Folded\" not in width:\n",
    "        width = float(width.strip(\"inches\").strip(\"in.\").strip(\"in\").strip())\n",
    "    else:\n",
    "        width = float(width[width.find(\"Unfolded\")::].strip(\"Unfolded:\").strip(\"Unfolded\").strip(\"in.\").strip(\"in\").strip())\n",
    "    if \"Folded\" not in height:\n",
    "        height = float(height.strip(\"inches\").strip(\"in.\").strip(\"in\").strip())\n",
    "    else:\n",
    "        height = float(height[height.find(\"Unfolded\")::].strip(\"Unfolded:\").strip(\"Unfolded\").strip(\"in.\").strip(\"in\").strip())\n",
    "    return round((width**2 + height**2)**0.5, 2)\n",
    "df['screen_size'] = df.apply(lambda x: compute_screen_size(x['width'], x['height']), axis=1)"
   ]
  },
  {
   "cell_type": "markdown",
   "metadata": {},
   "source": [
    "Normalize camera categories"
   ]
  },
  {
   "cell_type": "code",
   "execution_count": 139,
   "metadata": {},
   "outputs": [],
   "source": [
    "updated_camera_categories = {'general', 'modes', 'front', 'rear', \"video\"}"
   ]
  },
  {
   "cell_type": "code",
   "execution_count": 141,
   "metadata": {},
   "outputs": [],
   "source": [
    "def normalize_camera_categories(camera_dict):\n",
    "    if camera_dict == None:\n",
    "        return None\n",
    "    if 'Camera' in camera_dict.keys():\n",
    "        camera_dict['general'] = camera_dict['Camera']\n",
    "        del camera_dict['Camera']\n",
    "    if 'Camera Modes' in camera_dict.keys():\n",
    "        camera_dict['modes'] = camera_dict['Camera Modes']\n",
    "        del camera_dict['Camera Modes']\n",
    "    if 'Camera Mode' in camera_dict.keys():\n",
    "        camera_dict['modes'] = camera_dict['Camera Mode']\n",
    "        del camera_dict['Camera Mode']\n",
    "    if \"camera\" in camera_dict.keys():\n",
    "        camera_dict['general'] = camera_dict['camera']\n",
    "        del camera_dict['camera']\n",
    "    if \"Main Lens\" in camera_dict.keys():\n",
    "        camera_dict['general'] = camera_dict['Main Lens']\n",
    "        del camera_dict['Main Lens']\n",
    "    if \"Front Camera\" in camera_dict.keys():\n",
    "        camera_dict['front'] = camera_dict['Front Camera']\n",
    "        del camera_dict['Front Camera']\n",
    "    if \"Rear Camera\" in camera_dict.keys():\n",
    "        camera_dict['rear'] = camera_dict['Rear Camera']\n",
    "        del camera_dict['Rear Camera']\n",
    "    if \"Video\" in camera_dict.keys():\n",
    "        camera_dict['video'] = camera_dict['Video']\n",
    "        del camera_dict['Video']\n",
    "    for category in updated_camera_categories:\n",
    "        if category not in camera_dict.keys():\n",
    "            camera_dict[category] = None\n",
    "    return camera_dict"
   ]
  },
  {
   "cell_type": "code",
   "execution_count": 142,
   "metadata": {},
   "outputs": [],
   "source": [
    "df['camera'] = df['camera'].apply(normalize_camera_categories)"
   ]
  },
  {
   "cell_type": "code",
   "execution_count": 144,
   "metadata": {},
   "outputs": [],
   "source": [
    "df.to_json('./phones_all_data.json.json', orient='records')"
   ]
  },
  {
   "cell_type": "markdown",
   "metadata": {},
   "source": [
    "Compressing json for gpt input"
   ]
  },
  {
   "cell_type": "code",
   "execution_count": 4,
   "metadata": {},
   "outputs": [],
   "source": [
    "df = pd.read_json('./phones_all_data.json')\n",
    "\n",
    "# Remove depth, weight, height, and width columns\n",
    "df = df.drop(columns=['depth', 'weight', 'height', 'width', 'operating_system'])"
   ]
  },
  {
   "cell_type": "code",
   "execution_count": 154,
   "metadata": {},
   "outputs": [],
   "source": [
    "df.to_json('./phones_compressed_data.json', orient='records')"
   ]
  }
 ],
 "metadata": {
  "kernelspec": {
   "display_name": "venv",
   "language": "python",
   "name": "python3"
  },
  "language_info": {
   "codemirror_mode": {
    "name": "ipython",
    "version": 3
   },
   "file_extension": ".py",
   "mimetype": "text/x-python",
   "name": "python",
   "nbconvert_exporter": "python",
   "pygments_lexer": "ipython3",
   "version": "3.10.11"
  }
 },
 "nbformat": 4,
 "nbformat_minor": 2
}
