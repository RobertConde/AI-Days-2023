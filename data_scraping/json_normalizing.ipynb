{
 "cells": [
  {
   "cell_type": "code",
   "execution_count": 60,
   "metadata": {},
   "outputs": [],
   "source": [
    "import pandas as pd\n",
    "import re"
   ]
  },
  {
   "cell_type": "code",
   "execution_count": 64,
   "metadata": {},
   "outputs": [],
   "source": [
    "# Load df from json\n",
    "df = pd.read_json('./phones_final.json')"
   ]
  },
  {
   "cell_type": "code",
   "execution_count": 9,
   "metadata": {},
   "outputs": [],
   "source": [
    "# Define a function to extract the brand\n",
    "def extract_brand(name):\n",
    "    if \"apple\" in name.lower():\n",
    "        return \"Apple\"\n",
    "    elif \"samsung\" in name.lower():\n",
    "        return \"Samsung\"\n",
    "    elif \"motorola\" in name.lower():\n",
    "        return \"Motorola\"\n",
    "    elif \"nokia\" in name.lower():\n",
    "        return \"Nokia\"\n",
    "    elif \"kyocera\" in name.lower():\n",
    "        return \"Kyocera\"\n",
    "    elif \"google\" in name.lower():\n",
    "        return \"Google\"\n",
    "    elif \"tcl\" in name.lower():\n",
    "        return \"TCL\"\n",
    "    elif \"sonim\" in name.lower():\n",
    "        return \"Sonim\""
   ]
  },
  {
   "cell_type": "code",
   "execution_count": 10,
   "metadata": {},
   "outputs": [],
   "source": [
    "df['brand'] = df['name'].apply(extract_brand)"
   ]
  },
  {
   "cell_type": "code",
   "execution_count": 65,
   "metadata": {},
   "outputs": [],
   "source": [
    "def convert_storage(storage_str):\n",
    "    if storage_str == None:\n",
    "        return None\n",
    "    storage_str = storage_str.lower()\n",
    "    if \",\" in storage_str:\n",
    "        storage_list = [int(re.sub(\"[^0-9]\", \"\", s).strip()) for s in storage_str.split(',')]\n",
    "    elif \"|\" in storage_str:\n",
    "        storage_list = [int(re.sub(\"[^0-9]\", \"\", s).strip()) for s in storage_str.split('|')]\n",
    "    else:\n",
    "        storage_list = [int(re.sub(\"[^0-9]\", \"\", storage_str).strip())]\n",
    "    return storage_list"
   ]
  },
  {
   "cell_type": "code",
   "execution_count": 66,
   "metadata": {},
   "outputs": [],
   "source": [
    "df['storage'] = df['storage'].apply(convert_storage)"
   ]
  },
  {
   "cell_type": "code",
   "execution_count": 69,
   "metadata": {},
   "outputs": [],
   "source": [
    "df['used'] = df['name'].apply(lambda x: \"owned\" in x.lower())"
   ]
  },
  {
   "cell_type": "code",
   "execution_count": 74,
   "metadata": {},
   "outputs": [],
   "source": [
    "# Remove (Certified Pre-Owned) from name\n",
    "df['name'] = df['name'].apply(lambda x: re.sub(r\"\\(Certified Pre-Owned\\)\", \"\", x).strip())"
   ]
  },
  {
   "cell_type": "code",
   "execution_count": 77,
   "metadata": {},
   "outputs": [],
   "source": [
    "df.to_json('./phones_final.json', orient='records')"
   ]
  }
 ],
 "metadata": {
  "kernelspec": {
   "display_name": "venv",
   "language": "python",
   "name": "python3"
  },
  "language_info": {
   "codemirror_mode": {
    "name": "ipython",
    "version": 3
   },
   "file_extension": ".py",
   "mimetype": "text/x-python",
   "name": "python",
   "nbconvert_exporter": "python",
   "pygments_lexer": "ipython3",
   "version": "3.10.11"
  }
 },
 "nbformat": 4,
 "nbformat_minor": 2
}
